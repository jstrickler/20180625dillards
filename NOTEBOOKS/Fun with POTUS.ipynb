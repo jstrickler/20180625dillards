{
 "cells": [
  {
   "cell_type": "markdown",
   "metadata": {},
   "source": [
    "# My new notebook"
   ]
  },
  {
   "cell_type": "code",
   "execution_count": 1,
   "metadata": {
    "collapsed": true
   },
   "outputs": [],
   "source": [
    "import pandas as pd"
   ]
  },
  {
   "cell_type": "code",
   "execution_count": 3,
   "metadata": {},
   "outputs": [
    {
     "data": {
      "text/html": [
       "<div>\n",
       "<style>\n",
       "    .dataframe thead tr:only-child th {\n",
       "        text-align: right;\n",
       "    }\n",
       "\n",
       "    .dataframe thead th {\n",
       "        text-align: left;\n",
       "    }\n",
       "\n",
       "    .dataframe tbody tr th {\n",
       "        vertical-align: top;\n",
       "    }\n",
       "</style>\n",
       "<table border=\"1\" class=\"dataframe\">\n",
       "  <thead>\n",
       "    <tr style=\"text-align: right;\">\n",
       "      <th></th>\n",
       "      <th>1</th>\n",
       "      <th>George</th>\n",
       "      <th>Washington</th>\n",
       "      <th>Westmoreland County</th>\n",
       "      <th>Virginia</th>\n",
       "      <th>no party</th>\n",
       "    </tr>\n",
       "  </thead>\n",
       "  <tbody>\n",
       "    <tr>\n",
       "      <th>0</th>\n",
       "      <td>2</td>\n",
       "      <td>John</td>\n",
       "      <td>Adams</td>\n",
       "      <td>Braintree, Norfolk</td>\n",
       "      <td>Massachusetts</td>\n",
       "      <td>Federalist</td>\n",
       "    </tr>\n",
       "    <tr>\n",
       "      <th>1</th>\n",
       "      <td>3</td>\n",
       "      <td>Thomas</td>\n",
       "      <td>Jefferson</td>\n",
       "      <td>Albermarle County</td>\n",
       "      <td>Virginia</td>\n",
       "      <td>Democratic - Republican</td>\n",
       "    </tr>\n",
       "    <tr>\n",
       "      <th>2</th>\n",
       "      <td>4</td>\n",
       "      <td>James</td>\n",
       "      <td>Madison</td>\n",
       "      <td>Port Conway</td>\n",
       "      <td>Virginia</td>\n",
       "      <td>Democratic - Republican</td>\n",
       "    </tr>\n",
       "    <tr>\n",
       "      <th>3</th>\n",
       "      <td>5</td>\n",
       "      <td>James</td>\n",
       "      <td>Monroe</td>\n",
       "      <td>Westmoreland County</td>\n",
       "      <td>Virginia</td>\n",
       "      <td>Democratic - Republican</td>\n",
       "    </tr>\n",
       "    <tr>\n",
       "      <th>4</th>\n",
       "      <td>6</td>\n",
       "      <td>John Quincy</td>\n",
       "      <td>Adams</td>\n",
       "      <td>Braintree, Norfolk</td>\n",
       "      <td>Massachusetts</td>\n",
       "      <td>Democratic - Republican</td>\n",
       "    </tr>\n",
       "  </tbody>\n",
       "</table>\n",
       "</div>"
      ],
      "text/plain": [
       "   1       George Washington  Westmoreland County       Virginia  \\\n",
       "0  2         John      Adams   Braintree, Norfolk  Massachusetts   \n",
       "1  3       Thomas  Jefferson    Albermarle County       Virginia   \n",
       "2  4        James    Madison          Port Conway       Virginia   \n",
       "3  5        James     Monroe  Westmoreland County       Virginia   \n",
       "4  6  John Quincy      Adams   Braintree, Norfolk  Massachusetts   \n",
       "\n",
       "                  no party  \n",
       "0               Federalist  \n",
       "1  Democratic - Republican  \n",
       "2  Democratic - Republican  \n",
       "3  Democratic - Republican  \n",
       "4  Democratic - Republican  "
      ]
     },
     "execution_count": 3,
     "metadata": {},
     "output_type": "execute_result"
    }
   ],
   "source": [
    "df = pd.read_csv('../DATA/presidents.csv')\n",
    "df.head()"
   ]
  },
  {
   "cell_type": "code",
   "execution_count": null,
   "metadata": {
    "collapsed": true
   },
   "outputs": [],
   "source": []
  }
 ],
 "metadata": {
  "kernelspec": {
   "display_name": "Python 3",
   "language": "python",
   "name": "python3"
  },
  "language_info": {
   "codemirror_mode": {
    "name": "ipython",
    "version": 3
   },
   "file_extension": ".py",
   "mimetype": "text/x-python",
   "name": "python",
   "nbconvert_exporter": "python",
   "pygments_lexer": "ipython3",
   "version": "3.6.2"
  }
 },
 "nbformat": 4,
 "nbformat_minor": 2
}
